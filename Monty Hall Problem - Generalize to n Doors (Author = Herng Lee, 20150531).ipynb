{
 "cells": [
  {
   "cell_type": "code",
   "execution_count": null,
   "metadata": {
    "collapsed": true
   },
   "outputs": [],
   "source": [
    "# Author = Herng Lee (2015/05/31)\n",
    "\n",
    "# Based on Harvard's CS109 Homework #0's last question\n",
    "# Goal is to write code to simulate the Monty Hall Problem with N doors\n"
   ]
  },
  {
   "cell_type": "code",
   "execution_count": 6,
   "metadata": {
    "collapsed": false,
    "scrolled": true
   },
   "outputs": [],
   "source": [
    "%%capture\n",
    "\n",
    "#IPython is what you are using now to run the notebook\n",
    "import IPython\n",
    "print \"IPython version:      %6.6s (need at least 2.1.0)\" % IPython.__version__\n",
    "\n",
    "# Numpy is a library for working with Arrays\n",
    "import numpy as np\n",
    "print \"Numpy version:        %6.6s (need at least 1.8.1)\" % np.__version__\n",
    "\n",
    "# SciPy implements many different numerical algorithms\n",
    "import scipy as sp\n",
    "print \"SciPy version:        %6.6s (need at least 0.14.0)\" % sp.__version__\n",
    "\n",
    "# Pandas makes working with data tables easier\n",
    "import pandas as pd\n",
    "print \"Pandas version:       %6.6s (need at least 0.14.0)\" % pd.__version__\n",
    "\n",
    "# Module for plotting\n",
    "import matplotlib\n",
    "print \"Mapltolib version:    %6.6s (need at least 1.3.1)\" % matplotlib.__version__\n",
    "\n",
    "# SciKit Learn implements several Machine Learning algorithms\n",
    "import sklearn\n",
    "print \"Scikit-Learn version: %6.6s (need at least 0.14.1)\" % sklearn.__version__\n",
    "\n",
    "# Requests is a library for getting data from the Web\n",
    "import requests\n",
    "print \"requests version:     %6.6s (need at least 2.3.0)\" % requests.__version__\n",
    "\n",
    "# Networkx is a library for working with networks\n",
    "import networkx as nx\n",
    "print \"NetworkX version:     %6.6s (need at least 1.8.1)\" % nx.__version__\n",
    "\n",
    "#BeautifulSoup is a library to parse HTML and XML documents\n",
    "import bs4\n",
    "print \"BeautifulSoup version:%6.6s (need at least 4.0)\" % bs4.__version__\n",
    "\n",
    "#MrJob is a library to run map reduce jobs on Amazon's computers\n",
    "import mrjob\n",
    "print \"Mr Job version:       %6.6s (need at least 0.4.2)\" % mrjob.__version__\n",
    "\n",
    "#Pattern has lots of tools for working with data from the internet\n",
    "import pattern\n",
    "print \"Pattern version:      %6.6s (need at least 2.6)\" % pattern.__version__"
   ]
  },
  {
   "cell_type": "code",
   "execution_count": 7,
   "metadata": {
    "collapsed": true
   },
   "outputs": [],
   "source": [
    "\n",
    "#First, create a function that randomly generates prize door #'s\n",
    "def simulate_prizedoor(ndoors, nsim):\n",
    "    return np.random.randint(0,(ndoors), (nsim))\n"
   ]
  },
  {
   "cell_type": "code",
   "execution_count": 8,
   "metadata": {
    "collapsed": true
   },
   "outputs": [],
   "source": [
    "#Then, create a function that randomly generates guesses by the contestant\n",
    "def simulate_guess(nsim):\n",
    "    return np.zeros(nsim, dtype=np.int)\n"
   ]
  },
  {
   "cell_type": "code",
   "execution_count": 9,
   "metadata": {
    "collapsed": true
   },
   "outputs": [],
   "source": [
    "# Now, in the case of n doors, while the host is technically \"opening\" (n-2) doors that are goats,\n",
    "# we can think of this action as being equivalent to \"choosing one single door for the contestant to switch to.\"\n",
    "# The only constraint on this unopened door is that it has to be the prize door if the contest has not picked the prize door\n",
    "# to begin with; otherwise, it can be any door that the contestant hasn't chosen (and will obviously contain a goat).\n",
    "\n",
    "def unopened(ndoors,nsim):\n",
    "    switch = np.random.randint(0,ndoors, nsim) #start by leaving random doors as the last unopened one by host\n",
    "    i = 0\n",
    "    \n",
    "    while i < nsim:\n",
    "\n",
    "        if (guess[i] == prize[i]): #if the guess happens to be prize door, make sure unopened one isn't prize/guess\n",
    "            while (prize[i] == switch[i]):\n",
    "                assign = np.random.randint(0,ndoors)\n",
    "                switch[i] = assign\n",
    "        \n",
    "        else: #if prize and guess are different, then have to make prize door last unopened one\n",
    "            xx = prize[i]\n",
    "            switch[i] = xx\n",
    "            \n",
    "        i+= 1\n",
    "\n",
    "    return switch"
   ]
  },
  {
   "cell_type": "code",
   "execution_count": 11,
   "metadata": {
    "collapsed": false
   },
   "outputs": [
    {
     "name": "stdout",
     "output_type": "stream",
     "text": [
      "With 5 doors:\n",
      "Winning % of Sticking with Same Door is 19.46 %\n",
      "Winning % of Switching Doors is 80.54 %\n"
     ]
    }
   ],
   "source": [
    "#Final Simulation Results, with 5 doors as example\n",
    "ndoors = 5\n",
    "nsim = 5000\n",
    "\n",
    "guess = simulate_guess(nsim)\n",
    "prize = simulate_prizedoor(ndoors,nsim)\n",
    "switch = unopened(ndoors,nsim)\n",
    "\n",
    "print 'With',  ndoors , 'doors:'\n",
    "print 'Winning % of Sticking with Same Door is', ((guess == prize) * 100).mean() , '%'\n",
    "print 'Winning % of Switching Doors is', ((switch == prize) * 100).mean(), '%'"
   ]
  },
  {
   "cell_type": "code",
   "execution_count": 46,
   "metadata": {
    "collapsed": false
   },
   "outputs": [
    {
     "data": {
      "image/png": "[encoded data removed]",
      "text/plain": [
       "<matplotlib.figure.Figure at 0x139334a8>"
      ]
     },
     "metadata": {},
     "output_type": "display_data"
    }
   ],
   "source": [
    "# Just for the sake of it, let's visualize how much higher our chances of winning are,\n",
    "# when we elect to switch vs. not switch...\n",
    "\n",
    "# import matplotlib\n",
    "import matplotlib.pyplot as plt  \n",
    "\n",
    "#prepare IPython for working with matplotlib\n",
    "%matplotlib inline  \n",
    "\n",
    "Win = []\n",
    "\n",
    "for i in range(nsim):\n",
    "    if switch[i] == prize[i]:\n",
    "        Win.append(1)\n",
    "    else:\n",
    "        Win.append(0)\n",
    "        \n",
    "histogram = plt.hist(Win, bins = 2)"
   ]
  },
  {
   "cell_type": "code",
   "execution_count": null,
   "metadata": {
    "collapsed": true
   },
   "outputs": [],
   "source": []
  },
  {
   "cell_type": "code",
   "execution_count": null,
   "metadata": {
    "collapsed": true
   },
   "outputs": [],
   "source": []
  }
 ],
 "metadata": {
  "kernelspec": {
   "display_name": "Python 2",
   "language": "python",
   "name": "python2"
  },
  "language_info": {
   "codemirror_mode": {
    "name": "ipython",
    "version": 2
   },
   "file_extension": ".py",
   "mimetype": "text/x-python",
   "name": "python",
   "nbconvert_exporter": "python",
   "pygments_lexer": "ipython2",
   "version": "2.7.9"
  }
 },
 "nbformat": 4,
 "nbformat_minor": 0
}
